{
 "cells": [
  {
   "cell_type": "markdown",
   "metadata": {},
   "source": [
    "**Importations**"
   ]
  },
  {
   "cell_type": "code",
   "execution_count": 1,
   "metadata": {},
   "outputs": [],
   "source": [
    "from Classes_Et_Outils.Corpus import Corpus\n",
    "from Classes_Et_Outils.Documents import Document, RedditDocument, ArxivDocument\n",
    "from Classes_Et_Outils import Importation as dl\n",
    "\n",
    "import ipywidgets as widgets\n",
    "from IPython.display import display"
   ]
  },
  {
   "cell_type": "markdown",
   "metadata": {},
   "source": [
    "**Tests Unitaires V1**\n",
    "\n",
    "(pas obligés d'être lancés)"
   ]
  },
  {
   "cell_type": "code",
   "execution_count": null,
   "metadata": {},
   "outputs": [],
   "source": [
    "# AI generated exemples\n",
    "Doc1 = Document(\"Climate Change Impacts\", \"Alice Martin\", \"2022-11-20\", \"https://example.com/climate-change-impacts\", \"This document explores the various impacts of climate change on ecosystems, economy, and human societies worldwide.\")\n",
    "Doc2 = ArxivDocument(\"Quantum Computing Basics\", \"Robert Brown\", \"2023-03-05\", \"https://example.com/quantum-computing\", \"An introduction to quantum computing, explaining fundamental principles like qubits, superposition, and entanglement.\")\n",
    "Doc3 = RedditDocument(\"Renewable Energy Innovations\", \"Alice Martin\", \"2023-08-30\", \"https://example.com/renewable-energy-innovations\", \"This document examines the latest innovations in renewable energy technologies, including advancements in solar, wind, and geothermal energy solutions.\")\n",
    "\n",
    "CorpusV1 = Corpus(\"NomV1\")\n",
    "\n",
    "CorpusV1.add(Doc1)\n",
    "CorpusV1.add(Doc2)\n",
    "CorpusV1.add(Doc3)\n",
    "\n",
    "# Attention, cela va prendre quelques minutes...\n",
    "\n",
    "CorpusImportationV1= Corpus(\"Importation\")\n",
    "Query= \"America\"        # à vous de mettre votre propre recherche\n",
    "\n",
    "#edl.sauvegarder(Qury)  # à décommenter si vous voulez utiliser une autre query\n",
    "\n",
    "dl.corpusAddAll(CorpusImportationV1)\n",
    "CorpusImportationV1.__str__()"
   ]
  },
  {
   "cell_type": "markdown",
   "metadata": {},
   "source": [
    "**Tests Unitaires V2**"
   ]
  },
  {
   "cell_type": "code",
   "execution_count": null,
   "metadata": {},
   "outputs": [],
   "source": [
    "# AI generated exemples\n",
    "Doc1 = Document(\"Climate Change Impacts\", \"Alice Martin\", \"2022-11-20\", \"https://example.com/climate-change-impacts\", \"This document explores the various impacts of climate change on ecosystems, economy, and human societies worldwide.\")\n",
    "Doc2 = ArxivDocument(\"Quantum Computing Basics\", \"Robert Brown\", \"2023-03-05\", \"https://example.com/quantum-computing\", \"An introduction to quantum computing, explaining fundamental principles like qubits, superposition, and entanglement.\")\n",
    "Doc3 = RedditDocument(\"Renewable Energy Innovations\", \"Alice Martin\", \"2023-08-30\", \"https://example.com/renewable-energy-innovations\", \"This document examines the latest innovations in renewable energy technologies, including advancements in solar, wind, and geothermal energy solutions.\")\n",
    "\n",
    "CorpusV2 = Corpus(\"NomV1\")\n",
    "\n",
    "CorpusV2.add(Doc1)\n",
    "CorpusV2.add(Doc2)\n",
    "CorpusV2.add(Doc3)\n",
    "\n",
    "CorpusV2.search(\"quantum\")\n",
    "print(CorpusV2.concorde(\"and\"))\n",
    "CorpusV2.stats(10)\n",
    "\n",
    "CorpusV2.tf()\n",
    "CorpusV2.idf()\n",
    "CorpusV2.tfidf()\n",
    "\n",
    "print(CorpusV2.searchEngine(2,\"quantum computing\"))"
   ]
  },
  {
   "cell_type": "markdown",
   "metadata": {},
   "source": [
    "**L'application**"
   ]
  },
  {
   "cell_type": "code",
   "execution_count": 2,
   "metadata": {},
   "outputs": [],
   "source": [
    "button = widgets.Button(\n",
    "    description='click to confirm the data',\n",
    "    layout={'width': '300px'}\n",
    ")\n",
    "l =widgets.Label(\"Moteur de recherche\")\n",
    "t =widgets.Text()\n",
    "i =widgets.IntSlider(50)\n",
    "out = widgets.Output()"
   ]
  },
  {
   "cell_type": "code",
   "execution_count": null,
   "metadata": {},
   "outputs": [],
   "source": [
    "def clique_bouton(event):\n",
    "    query = t.value\n",
    "    num = i.value\n",
    "    with out:\n",
    "        out.clear_output()\n",
    "        # Call the search function\n",
    "        results = engine.search(num, query)\n",
    "        for result in results:\n",
    "            print(result)\n",
    "\n",
    "\n",
    "button.on_click(clique_bouton)\n",
    "display(widgets.VBox([l,t,i,button,out]))"
   ]
  }
 ],
 "metadata": {
  "kernelspec": {
   "display_name": "o",
   "language": "python",
   "name": "python3"
  },
  "language_info": {
   "codemirror_mode": {
    "name": "ipython",
    "version": 3
   },
   "file_extension": ".py",
   "mimetype": "text/x-python",
   "name": "python",
   "nbconvert_exporter": "python",
   "pygments_lexer": "ipython3",
   "version": "3.12.7"
  }
 },
 "nbformat": 4,
 "nbformat_minor": 2
}
