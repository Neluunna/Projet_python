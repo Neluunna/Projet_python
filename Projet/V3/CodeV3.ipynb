{
 "cells": [
  {
   "cell_type": "markdown",
   "metadata": {},
   "source": [
    "**Importations**"
   ]
  },
  {
   "cell_type": "code",
   "execution_count": null,
   "metadata": {},
   "outputs": [],
   "source": [
    "from Classes_Et_Outils.Corpus import Corpus\n",
    "from Classes_Et_Outils.Documents import Document, RedditDocument, ArxivDocument\n",
    "from Classes_Et_Outils import Importation as dl"
   ]
  },
  {
   "cell_type": "markdown",
   "metadata": {},
   "source": [
    "**Tests Unitaires V1**"
   ]
  },
  {
   "cell_type": "code",
   "execution_count": null,
   "metadata": {},
   "outputs": [],
   "source": [
    "# AI generated exemples\n",
    "Doc1 = Document(\"Climate Change Impacts\", \"Alice Martin\", \"2022-11-20\", \"https://example.com/climate-change-impacts\", \"This document explores the various impacts of climate change on ecosystems, economy, and human societies worldwide.\")\n",
    "Doc2 = ArxivDocument(\"Quantum Computing Basics\", \"Robert Brown\", \"2023-03-05\", \"https://example.com/quantum-computing\", \"An introduction to quantum computing, explaining fundamental principles like qubits, superposition, and entanglement.\")\n",
    "Doc3 = RedditDocument(\"Renewable Energy Innovations\", \"Alice Martin\", \"2023-08-30\", \"https://example.com/renewable-energy-innovations\", \"This document examines the latest innovations in renewable energy technologies, including advancements in solar, wind, and geothermal energy solutions.\")\n",
    "\n",
    "CorpusV1 = Corpus(\"NomV1\")\n",
    "\n",
    "CorpusV1.add(Doc1)\n",
    "CorpusV1.add(Doc2)\n",
    "CorpusV1.add(Doc3)\n",
    "\n",
    "\n",
    "\n",
    "CorpusImportationV1= Corpus(\"Importation\")\n",
    "Query= \"America\"       # à vous de mettre votre propre recherche\n",
    "\n",
    "#edl.sauvegarder(Qury)         # à décommenter si vous voulez utiliser une autre query\n",
    "\n",
    "dl.corpusAddAll(CorpusV2)\n",
    "CorpusV2.__str__()"
   ]
  }
 ],
 "metadata": {
  "language_info": {
   "name": "python"
  }
 },
 "nbformat": 4,
 "nbformat_minor": 2
}
