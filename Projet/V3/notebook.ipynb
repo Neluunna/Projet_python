{
 "cells": [
  {
   "cell_type": "code",
   "execution_count": 1,
   "metadata": {},
   "outputs": [
    {
     "data": {
      "application/vnd.jupyter.widget-view+json": {
       "model_id": "6e188d7876c64fff80db5a0bf2fdf83f",
       "version_major": 2,
       "version_minor": 0
      },
      "text/plain": [
       "VBox(children=(HTML(value='Moteur de recherche'), Text(value='mot1 mot2 mot3', description='Mots clés:'), IntS…"
      ]
     },
     "metadata": {},
     "output_type": "display_data"
    }
   ],
   "source": [
    "import ipywidgets as widgets\n",
    "from IPython.display import display\n",
    "\n",
    "l = widgets.HTML(\n",
    "    value=\"Moteur de recherche\",\n",
    ")\n",
    "w = widgets.IntSlider(description='Nombre d articles à extraire', min=0, max=10,)\n",
    "mc = widgets.Text(\n",
    "    value='mot1 mot2 mot3',\n",
    "    description='Mots clés:',\n",
    "    disabled=False\n",
    ")\n",
    "\n",
    "display(widgets.VBox([l, mc, w]))\n",
    "\n",
    "\n",
    "\n"
   ]
  }
 ],
 "metadata": {
  "kernelspec": {
   "display_name": ".venv",
   "language": "python",
   "name": "python3"
  },
  "language_info": {
   "codemirror_mode": {
    "name": "ipython",
    "version": 3
   },
   "file_extension": ".py",
   "mimetype": "text/x-python",
   "name": "python",
   "nbconvert_exporter": "python",
   "pygments_lexer": "ipython3",
   "version": "3.12.7"
  }
 },
 "nbformat": 4,
 "nbformat_minor": 2
}
